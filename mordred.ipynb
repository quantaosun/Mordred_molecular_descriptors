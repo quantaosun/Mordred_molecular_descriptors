{
 "cells": [
  {
   "cell_type": "markdown",
   "id": "b3d9c2af-ae82-4d81-b5bb-dee1687c796e",
   "metadata": {},
   "source": [
    "\n",
    "# Molecular Descriptor Calculation\n",
    "\n",
    "This <font color='orange'>**Mordred**</font>**Descriptor** notebook is designed for calculating molecular descriptors in the brwoser without any sign-up/in requirement, with **Rdkit** and **Mordred** used to calculate descriptors, **Pandas** used to visulize the result.\n",
    "\n",
    "[![Binder](https://mybinder.org/badge_logo.svg)](https://mybinder.org/v2/gl/quantaosun%2Fdescriptor/HEAD?labpath=mordred.ipynb)\n",
    "[![version](https://img.shields.io/badge/Mordred-Github-blue)](https://github.com/mordred-descriptor/mordred)\n",
    "[![version](https://img.shields.io/badge/Installed_and_hosted_by-Quantao_Sun-red)](https://gitlab.com/quantaosun/descriptor)"
   ]
  },
  {
   "cell_type": "markdown",
   "id": "9d10f02f-1a7f-4da3-8439-4a3c3caca6a2",
   "metadata": {
    "jp-MarkdownHeadingCollapsed": true,
    "tags": []
   },
   "source": [
    "##  A total 1613 descriptors will be calculated "
   ]
  },
  {
   "cell_type": "code",
   "execution_count": 1,
   "id": "77f1cf30-a336-40e7-98d3-442240a211a4",
   "metadata": {
    "tags": []
   },
   "outputs": [],
   "source": [
    "import pandas as pd\n",
    "from rdkit import Chem\n",
    "from mordred import Calculator, descriptors"
   ]
  },
  {
   "cell_type": "code",
   "execution_count": 2,
   "id": "77967d07-e24c-41b0-9414-471489b3ee40",
   "metadata": {
    "tags": []
   },
   "outputs": [
    {
     "data": {
      "text/plain": [
       "1613"
      ]
     },
     "execution_count": 2,
     "metadata": {},
     "output_type": "execute_result"
    }
   ],
   "source": [
    "\n",
    "# create descriptor calculator with all descriptors\n",
    "calc = Calculator(descriptors, ignore_3D=True)\n",
    "\n",
    "len(calc.descriptors)"
   ]
  },
  {
   "cell_type": "markdown",
   "id": "6d39e925-225e-4f05-945d-b3a41ebe16df",
   "metadata": {},
   "source": [
    "## Paste SMILES below 👇 \n",
    "\n",
    "- Click **Run** from top left 👆, click **Run All Cells**"
   ]
  },
  {
   "cell_type": "code",
   "execution_count": 3,
   "id": "0d6b2dde-cf70-4600-8e74-0cf49bf634bf",
   "metadata": {
    "tags": []
   },
   "outputs": [
    {
     "name": "stderr",
     "output_type": "stream",
     "text": [
      "100%|██████████| 3/3 [00:00<00:00,  4.26it/s]\n"
     ]
    },
    {
     "data": {
      "text/html": [
       "<div>\n",
       "<style scoped>\n",
       "    .dataframe tbody tr th:only-of-type {\n",
       "        vertical-align: middle;\n",
       "    }\n",
       "\n",
       "    .dataframe tbody tr th {\n",
       "        vertical-align: top;\n",
       "    }\n",
       "\n",
       "    .dataframe thead th {\n",
       "        text-align: right;\n",
       "    }\n",
       "</style>\n",
       "<table border=\"1\" class=\"dataframe\">\n",
       "  <thead>\n",
       "    <tr style=\"text-align: right;\">\n",
       "      <th></th>\n",
       "      <th>ABC</th>\n",
       "      <th>ABCGG</th>\n",
       "      <th>nAcid</th>\n",
       "      <th>nBase</th>\n",
       "      <th>SpAbs_A</th>\n",
       "      <th>SpMax_A</th>\n",
       "      <th>SpDiam_A</th>\n",
       "      <th>SpAD_A</th>\n",
       "      <th>SpMAD_A</th>\n",
       "      <th>LogEE_A</th>\n",
       "      <th>...</th>\n",
       "      <th>SRW10</th>\n",
       "      <th>TSRW10</th>\n",
       "      <th>MW</th>\n",
       "      <th>AMW</th>\n",
       "      <th>WPath</th>\n",
       "      <th>WPol</th>\n",
       "      <th>Zagreb1</th>\n",
       "      <th>Zagreb2</th>\n",
       "      <th>mZagreb1</th>\n",
       "      <th>mZagreb2</th>\n",
       "    </tr>\n",
       "  </thead>\n",
       "  <tbody>\n",
       "    <tr>\n",
       "      <th>0</th>\n",
       "      <td>module 'numpy' has no attribute 'float'.\\n`np....</td>\n",
       "      <td>module 'numpy' has no attribute 'float'.\\n`np....</td>\n",
       "      <td>0</td>\n",
       "      <td>0</td>\n",
       "      <td>8.720566</td>\n",
       "      <td>2.101003</td>\n",
       "      <td>4.202006</td>\n",
       "      <td>8.720566</td>\n",
       "      <td>1.245795</td>\n",
       "      <td>2.844305</td>\n",
       "      <td>...</td>\n",
       "      <td>8.124151</td>\n",
       "      <td>33.544698</td>\n",
       "      <td>112.007978</td>\n",
       "      <td>9.333998</td>\n",
       "      <td>42</td>\n",
       "      <td>5</td>\n",
       "      <td>30.0</td>\n",
       "      <td>31.0</td>\n",
       "      <td>2.361111</td>\n",
       "      <td>1.666667</td>\n",
       "    </tr>\n",
       "    <tr>\n",
       "      <th>1</th>\n",
       "      <td>module 'numpy' has no attribute 'float'.\\n`np....</td>\n",
       "      <td>module 'numpy' has no attribute 'float'.\\n`np....</td>\n",
       "      <td>0</td>\n",
       "      <td>0</td>\n",
       "      <td>8.720566</td>\n",
       "      <td>2.101003</td>\n",
       "      <td>4.202006</td>\n",
       "      <td>8.720566</td>\n",
       "      <td>1.245795</td>\n",
       "      <td>2.844305</td>\n",
       "      <td>...</td>\n",
       "      <td>8.124151</td>\n",
       "      <td>33.544698</td>\n",
       "      <td>94.041865</td>\n",
       "      <td>7.233990</td>\n",
       "      <td>42</td>\n",
       "      <td>5</td>\n",
       "      <td>30.0</td>\n",
       "      <td>31.0</td>\n",
       "      <td>2.361111</td>\n",
       "      <td>1.666667</td>\n",
       "    </tr>\n",
       "    <tr>\n",
       "      <th>2</th>\n",
       "      <td>module 'numpy' has no attribute 'float'.\\n`np....</td>\n",
       "      <td>module 'numpy' has no attribute 'float'.\\n`np....</td>\n",
       "      <td>0</td>\n",
       "      <td>0</td>\n",
       "      <td>8.720566</td>\n",
       "      <td>2.101003</td>\n",
       "      <td>4.202006</td>\n",
       "      <td>8.720566</td>\n",
       "      <td>1.245795</td>\n",
       "      <td>2.844305</td>\n",
       "      <td>...</td>\n",
       "      <td>8.124151</td>\n",
       "      <td>33.544698</td>\n",
       "      <td>93.057849</td>\n",
       "      <td>6.646989</td>\n",
       "      <td>42</td>\n",
       "      <td>5</td>\n",
       "      <td>30.0</td>\n",
       "      <td>31.0</td>\n",
       "      <td>2.361111</td>\n",
       "      <td>1.666667</td>\n",
       "    </tr>\n",
       "  </tbody>\n",
       "</table>\n",
       "<p>3 rows × 1613 columns</p>\n",
       "</div>"
      ],
      "text/plain": [
       "                                                 ABC  \\\n",
       "0  module 'numpy' has no attribute 'float'.\\n`np....   \n",
       "1  module 'numpy' has no attribute 'float'.\\n`np....   \n",
       "2  module 'numpy' has no attribute 'float'.\\n`np....   \n",
       "\n",
       "                                               ABCGG  nAcid  nBase   SpAbs_A  \\\n",
       "0  module 'numpy' has no attribute 'float'.\\n`np....      0      0  8.720566   \n",
       "1  module 'numpy' has no attribute 'float'.\\n`np....      0      0  8.720566   \n",
       "2  module 'numpy' has no attribute 'float'.\\n`np....      0      0  8.720566   \n",
       "\n",
       "    SpMax_A  SpDiam_A    SpAD_A   SpMAD_A   LogEE_A  ...     SRW10     TSRW10  \\\n",
       "0  2.101003  4.202006  8.720566  1.245795  2.844305  ...  8.124151  33.544698   \n",
       "1  2.101003  4.202006  8.720566  1.245795  2.844305  ...  8.124151  33.544698   \n",
       "2  2.101003  4.202006  8.720566  1.245795  2.844305  ...  8.124151  33.544698   \n",
       "\n",
       "           MW       AMW  WPath  WPol  Zagreb1  Zagreb2  mZagreb1  mZagreb2  \n",
       "0  112.007978  9.333998     42     5     30.0     31.0  2.361111  1.666667  \n",
       "1   94.041865  7.233990     42     5     30.0     31.0  2.361111  1.666667  \n",
       "2   93.057849  6.646989     42     5     30.0     31.0  2.361111  1.666667  \n",
       "\n",
       "[3 rows x 1613 columns]"
      ]
     },
     "execution_count": 3,
     "metadata": {},
     "output_type": "execute_result"
    }
   ],
   "source": [
    "mols = [Chem.MolFromSmiles(smi) for smi in ['c1ccccc1Cl', 'c1ccccc1O', 'c1ccccc1N']]\n",
    "df = calc.pandas(mols)\n",
    "df"
   ]
  },
  {
   "cell_type": "markdown",
   "id": "9c265b3f-ccd9-4e95-b033-ee9f035330f3",
   "metadata": {
    "tags": []
   },
   "source": [
    "## The final result can be found by clicking the 📁 icon  on top left"
   ]
  },
  {
   "cell_type": "code",
   "execution_count": 4,
   "id": "d303fcce-cad1-4797-ac42-9f6d99f79c1d",
   "metadata": {
    "tags": []
   },
   "outputs": [],
   "source": [
    "df.to_csv('mol_descriptor.csv')"
   ]
  }
 ],
 "metadata": {
  "kernelspec": {
   "display_name": "Python 3 (ipykernel)",
   "language": "python",
   "name": "python3"
  },
  "language_info": {
   "codemirror_mode": {
    "name": "ipython",
    "version": 3
   },
   "file_extension": ".py",
   "mimetype": "text/x-python",
   "name": "python",
   "nbconvert_exporter": "python",
   "pygments_lexer": "ipython3",
   "version": "3.10.12"
  }
 },
 "nbformat": 4,
 "nbformat_minor": 5
}
