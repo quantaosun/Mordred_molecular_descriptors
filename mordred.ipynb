{
 "cells": [
  {
   "cell_type": "code",
   "execution_count": 5,
   "id": "77f1cf30-a336-40e7-98d3-442240a211a4",
   "metadata": {
    "tags": []
   },
   "outputs": [],
   "source": [
    "import pandas as pd\n",
    "from rdkit import Chem\n",
    "from mordred import Calculator, descriptors"
   ]
  },
  {
   "cell_type": "code",
   "execution_count": 2,
   "id": "77967d07-e24c-41b0-9414-471489b3ee40",
   "metadata": {
    "tags": []
   },
   "outputs": [
    {
     "data": {
      "text/plain": [
       "1613"
      ]
     },
     "execution_count": 2,
     "metadata": {},
     "output_type": "execute_result"
    }
   ],
   "source": [
    "\n",
    "# create descriptor calculator with all descriptors\n",
    "calc = Calculator(descriptors, ignore_3D=True)\n",
    "\n",
    "len(calc.descriptors)"
   ]
  },
  {
   "cell_type": "code",
   "execution_count": 7,
   "id": "0d6b2dde-cf70-4600-8e74-0cf49bf634bf",
   "metadata": {
    "tags": []
   },
   "outputs": [
    {
     "name": "stderr",
     "output_type": "stream",
     "text": [
      "100%|██████████| 3/3 [00:00<00:00,  3.66it/s]\n"
     ]
    },
    {
     "data": {
      "text/html": [
       "<div>\n",
       "<style scoped>\n",
       "    .dataframe tbody tr th:only-of-type {\n",
       "        vertical-align: middle;\n",
       "    }\n",
       "\n",
       "    .dataframe tbody tr th {\n",
       "        vertical-align: top;\n",
       "    }\n",
       "\n",
       "    .dataframe thead th {\n",
       "        text-align: right;\n",
       "    }\n",
       "</style>\n",
       "<table border=\"1\" class=\"dataframe\">\n",
       "  <thead>\n",
       "    <tr style=\"text-align: right;\">\n",
       "      <th></th>\n",
       "      <th>ABC</th>\n",
       "      <th>ABCGG</th>\n",
       "      <th>nAcid</th>\n",
       "      <th>nBase</th>\n",
       "      <th>SpAbs_A</th>\n",
       "      <th>SpMax_A</th>\n",
       "      <th>SpDiam_A</th>\n",
       "      <th>SpAD_A</th>\n",
       "      <th>SpMAD_A</th>\n",
       "      <th>LogEE_A</th>\n",
       "      <th>...</th>\n",
       "      <th>SRW10</th>\n",
       "      <th>TSRW10</th>\n",
       "      <th>MW</th>\n",
       "      <th>AMW</th>\n",
       "      <th>WPath</th>\n",
       "      <th>WPol</th>\n",
       "      <th>Zagreb1</th>\n",
       "      <th>Zagreb2</th>\n",
       "      <th>mZagreb1</th>\n",
       "      <th>mZagreb2</th>\n",
       "    </tr>\n",
       "  </thead>\n",
       "  <tbody>\n",
       "    <tr>\n",
       "      <th>0</th>\n",
       "      <td>module 'numpy' has no attribute 'float'.\\n`np....</td>\n",
       "      <td>module 'numpy' has no attribute 'float'.\\n`np....</td>\n",
       "      <td>0</td>\n",
       "      <td>0</td>\n",
       "      <td>8.720566</td>\n",
       "      <td>2.101003</td>\n",
       "      <td>4.202006</td>\n",
       "      <td>8.720566</td>\n",
       "      <td>1.245795</td>\n",
       "      <td>2.844305</td>\n",
       "      <td>...</td>\n",
       "      <td>8.124151</td>\n",
       "      <td>33.544698</td>\n",
       "      <td>112.007978</td>\n",
       "      <td>9.333998</td>\n",
       "      <td>42</td>\n",
       "      <td>5</td>\n",
       "      <td>30.0</td>\n",
       "      <td>31.0</td>\n",
       "      <td>2.361111</td>\n",
       "      <td>1.666667</td>\n",
       "    </tr>\n",
       "    <tr>\n",
       "      <th>1</th>\n",
       "      <td>module 'numpy' has no attribute 'float'.\\n`np....</td>\n",
       "      <td>module 'numpy' has no attribute 'float'.\\n`np....</td>\n",
       "      <td>0</td>\n",
       "      <td>0</td>\n",
       "      <td>8.720566</td>\n",
       "      <td>2.101003</td>\n",
       "      <td>4.202006</td>\n",
       "      <td>8.720566</td>\n",
       "      <td>1.245795</td>\n",
       "      <td>2.844305</td>\n",
       "      <td>...</td>\n",
       "      <td>8.124151</td>\n",
       "      <td>33.544698</td>\n",
       "      <td>94.041865</td>\n",
       "      <td>7.233990</td>\n",
       "      <td>42</td>\n",
       "      <td>5</td>\n",
       "      <td>30.0</td>\n",
       "      <td>31.0</td>\n",
       "      <td>2.361111</td>\n",
       "      <td>1.666667</td>\n",
       "    </tr>\n",
       "    <tr>\n",
       "      <th>2</th>\n",
       "      <td>module 'numpy' has no attribute 'float'.\\n`np....</td>\n",
       "      <td>module 'numpy' has no attribute 'float'.\\n`np....</td>\n",
       "      <td>0</td>\n",
       "      <td>0</td>\n",
       "      <td>8.720566</td>\n",
       "      <td>2.101003</td>\n",
       "      <td>4.202006</td>\n",
       "      <td>8.720566</td>\n",
       "      <td>1.245795</td>\n",
       "      <td>2.844305</td>\n",
       "      <td>...</td>\n",
       "      <td>8.124151</td>\n",
       "      <td>33.544698</td>\n",
       "      <td>93.057849</td>\n",
       "      <td>6.646989</td>\n",
       "      <td>42</td>\n",
       "      <td>5</td>\n",
       "      <td>30.0</td>\n",
       "      <td>31.0</td>\n",
       "      <td>2.361111</td>\n",
       "      <td>1.666667</td>\n",
       "    </tr>\n",
       "  </tbody>\n",
       "</table>\n",
       "<p>3 rows × 1613 columns</p>\n",
       "</div>"
      ],
      "text/plain": [
       "                                                 ABC  \\\n",
       "0  module 'numpy' has no attribute 'float'.\\n`np....   \n",
       "1  module 'numpy' has no attribute 'float'.\\n`np....   \n",
       "2  module 'numpy' has no attribute 'float'.\\n`np....   \n",
       "\n",
       "                                               ABCGG  nAcid  nBase   SpAbs_A  \\\n",
       "0  module 'numpy' has no attribute 'float'.\\n`np....      0      0  8.720566   \n",
       "1  module 'numpy' has no attribute 'float'.\\n`np....      0      0  8.720566   \n",
       "2  module 'numpy' has no attribute 'float'.\\n`np....      0      0  8.720566   \n",
       "\n",
       "    SpMax_A  SpDiam_A    SpAD_A   SpMAD_A   LogEE_A  ...     SRW10     TSRW10  \\\n",
       "0  2.101003  4.202006  8.720566  1.245795  2.844305  ...  8.124151  33.544698   \n",
       "1  2.101003  4.202006  8.720566  1.245795  2.844305  ...  8.124151  33.544698   \n",
       "2  2.101003  4.202006  8.720566  1.245795  2.844305  ...  8.124151  33.544698   \n",
       "\n",
       "           MW       AMW  WPath  WPol  Zagreb1  Zagreb2  mZagreb1  mZagreb2  \n",
       "0  112.007978  9.333998     42     5     30.0     31.0  2.361111  1.666667  \n",
       "1   94.041865  7.233990     42     5     30.0     31.0  2.361111  1.666667  \n",
       "2   93.057849  6.646989     42     5     30.0     31.0  2.361111  1.666667  \n",
       "\n",
       "[3 rows x 1613 columns]"
      ]
     },
     "execution_count": 7,
     "metadata": {},
     "output_type": "execute_result"
    }
   ],
   "source": [
    "len(Calculator(descriptors, ignore_3D=True, version=\"1.0.0\"))\n",
    "1612\n",
    "\n",
    "# calculate single molecule\n",
    "mol = Chem.MolFromSmiles('c1ccccc1')\n",
    "calc(mol)[:2]\n",
    "[4.242640687119286, 3.9999999999999996, 0]\n",
    "\n",
    "# calculate multiple molecule\n",
    "mols = [Chem.MolFromSmiles(smi) for smi in ['c1ccccc1Cl', 'c1ccccc1O', 'c1ccccc1N']]\n",
    "\n",
    "# as pandas\n",
    "df = calc.pandas(mols)\n",
    "df"
   ]
  },
  {
   "cell_type": "code",
   "execution_count": 8,
   "id": "9bd72032-2c24-4def-9256-c2f7fae260c6",
   "metadata": {
    "tags": []
   },
   "outputs": [
    {
     "data": {
      "text/plain": [
       "0     0.00\n",
       "1    20.23\n",
       "2    26.02\n",
       "Name: TopoPSA, dtype: float64"
      ]
     },
     "execution_count": 8,
     "metadata": {},
     "output_type": "execute_result"
    }
   ],
   "source": [
    "df['TopoPSA']"
   ]
  },
  {
   "cell_type": "code",
   "execution_count": 10,
   "id": "d303fcce-cad1-4797-ac42-9f6d99f79c1d",
   "metadata": {
    "tags": []
   },
   "outputs": [],
   "source": [
    "df.to_csv('mol_descriptor.csv')"
   ]
  }
 ],
 "metadata": {
  "kernelspec": {
   "display_name": "Python 3 (ipykernel)",
   "language": "python",
   "name": "python3"
  },
  "language_info": {
   "codemirror_mode": {
    "name": "ipython",
    "version": 3
   },
   "file_extension": ".py",
   "mimetype": "text/x-python",
   "name": "python",
   "nbconvert_exporter": "python",
   "pygments_lexer": "ipython3",
   "version": "3.10.12"
  }
 },
 "nbformat": 4,
 "nbformat_minor": 5
}
